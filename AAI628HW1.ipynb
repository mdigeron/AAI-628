{
  "nbformat": 4,
  "nbformat_minor": 0,
  "metadata": {
    "colab": {
      "provenance": []
    },
    "kernelspec": {
      "name": "python3",
      "display_name": "Python 3"
    },
    "language_info": {
      "name": "python"
    }
  },
  "cells": [
    {
      "cell_type": "code",
      "execution_count": null,
      "metadata": {
        "id": "Urm4pGIiPhco"
      },
      "outputs": [],
      "source": [
        "import tensorflow as tf\n",
        "from keras.layers import Input, Dense\n",
        "from keras.models import Model\n",
        "\n",
        "import matplotlib.pyplot as plt"
      ]
    },
    {
      "cell_type": "markdown",
      "source": [
        "The above code block imports some of the nessisary modules for the code.\n",
        "Tensorflow is a very popular machine learning framework. Keras provides addtional neural network modules that are built on top of tensorflow."
      ],
      "metadata": {
        "id": "tGGbWoDAfo8a"
      }
    },
    {
      "cell_type": "code",
      "source": [
        "import numpy as np\n",
        "#Linear Regression with TensorFlow\n",
        "from sklearn.datasets import fetch_california_housing\n",
        "housing = fetch_california_housing()\n",
        "m, n = housing.data.shape\n",
        "housing_data_plus_bias = np.c_[np.ones((m, 1)), housing.data]\n",
        "X = tf.constant(housing_data_plus_bias, dtype=tf.float32, name=\"X\")\n",
        "y = tf.constant(housing.target.reshape(-1, 1), dtype=tf.float32, name=\"y\")\n",
        "XT = tf.transpose(X)"
      ],
      "metadata": {
        "id": "8CGMAFo9RYUQ"
      },
      "execution_count": null,
      "outputs": []
    },
    {
      "cell_type": "code",
      "source": [
        "print(housing.DESCR)"
      ],
      "metadata": {
        "colab": {
          "base_uri": "https://localhost:8080/"
        },
        "id": "IjbPuTAVgJCt",
        "outputId": "bcbbb719-d3cc-4507-d978-5e223d2cda93"
      },
      "execution_count": null,
      "outputs": [
        {
          "output_type": "stream",
          "name": "stdout",
          "text": [
            ".. _california_housing_dataset:\n",
            "\n",
            "California Housing dataset\n",
            "--------------------------\n",
            "\n",
            "**Data Set Characteristics:**\n",
            "\n",
            "    :Number of Instances: 20640\n",
            "\n",
            "    :Number of Attributes: 8 numeric, predictive attributes and the target\n",
            "\n",
            "    :Attribute Information:\n",
            "        - MedInc        median income in block group\n",
            "        - HouseAge      median house age in block group\n",
            "        - AveRooms      average number of rooms per household\n",
            "        - AveBedrms     average number of bedrooms per household\n",
            "        - Population    block group population\n",
            "        - AveOccup      average number of household members\n",
            "        - Latitude      block group latitude\n",
            "        - Longitude     block group longitude\n",
            "\n",
            "    :Missing Attribute Values: None\n",
            "\n",
            "This dataset was obtained from the StatLib repository.\n",
            "https://www.dcc.fc.up.pt/~ltorgo/Regression/cal_housing.html\n",
            "\n",
            "The target variable is the median house value for California districts,\n",
            "expressed in hundreds of thousands of dollars ($100,000).\n",
            "\n",
            "This dataset was derived from the 1990 U.S. census, using one row per census\n",
            "block group. A block group is the smallest geographical unit for which the U.S.\n",
            "Census Bureau publishes sample data (a block group typically has a population\n",
            "of 600 to 3,000 people).\n",
            "\n",
            "A household is a group of people residing within a home. Since the average\n",
            "number of rooms and bedrooms in this dataset are provided per household, these\n",
            "columns may take surprisingly large values for block groups with few households\n",
            "and many empty houses, such as vacation resorts.\n",
            "\n",
            "It can be downloaded/loaded using the\n",
            ":func:`sklearn.datasets.fetch_california_housing` function.\n",
            "\n",
            ".. topic:: References\n",
            "\n",
            "    - Pace, R. Kelley and Ronald Barry, Sparse Spatial Autoregressions,\n",
            "      Statistics and Probability Letters, 33 (1997) 291-297\n",
            "\n"
          ]
        }
      ]
    },
    {
      "cell_type": "markdown",
      "source": [
        "Bias is set to default value of 1 for each instance. tf.constant creates a constant tensor. Tensor is the common data structure used in tensorflow."
      ],
      "metadata": {
        "id": "ZEvs2NtChCaH"
      }
    },
    {
      "cell_type": "code",
      "source": [
        "theta = tf.matmul(tf.matmul(tf.linalg.inv(tf.matmul(XT, X)), XT), y)\n",
        "\n",
        "print(theta)"
      ],
      "metadata": {
        "colab": {
          "base_uri": "https://localhost:8080/"
        },
        "id": "Wc5-J400Rbl0",
        "outputId": "3d57c1ed-417c-4ade-8701-0d6dd00d09dd"
      },
      "execution_count": null,
      "outputs": [
        {
          "output_type": "stream",
          "name": "stdout",
          "text": [
            "tf.Tensor(\n",
            "[[-3.7144665e+01]\n",
            " [ 4.3637392e-01]\n",
            " [ 9.3933418e-03]\n",
            " [-1.0714764e-01]\n",
            " [ 6.4542186e-01]\n",
            " [-4.1016874e-06]\n",
            " [-3.7816020e-03]\n",
            " [-4.2341197e-01]\n",
            " [-4.3682083e-01]], shape=(9, 1), dtype=float32)\n"
          ]
        }
      ]
    },
    {
      "cell_type": "markdown",
      "source": [
        "This is the normal equation used to minimize the cost function used in training"
      ],
      "metadata": {
        "id": "apEX3iIviwMf"
      }
    },
    {
      "cell_type": "code",
      "source": [
        "# Plot ad hoc mnist instances\n",
        "from keras.datasets import mnist\n",
        "import matplotlib.pyplot as plt\n",
        "# load (downloaded if needed) the MNIST dataset\n",
        "(X_train, y_train), (X_test, y_test) = mnist.load_data()\n",
        "# plot 4 images as gray scale\n",
        "plt.subplot(221)\n",
        "plt.imshow(X_train[0], cmap=plt.get_cmap('gray'))\n",
        "plt.subplot(222)\n",
        "plt.imshow(X_train[1], cmap=plt.get_cmap('gray'))\n",
        "plt.subplot(223)\n",
        "plt.imshow(X_train[2], cmap=plt.get_cmap('gray'))\n",
        "plt.subplot(224)\n",
        "plt.imshow(X_train[3], cmap=plt.get_cmap('gray'))\n",
        "# show the plot\n",
        "plt.show()\n",
        "\n",
        "from keras.datasets import mnist\n",
        "from keras.models import Sequential\n",
        "from keras.layers import Dense\n",
        "from keras.layers import Dropout\n",
        "from keras.utils import to_categorical"
      ],
      "metadata": {
        "colab": {
          "base_uri": "https://localhost:8080/",
          "height": 467
        },
        "id": "wscptX4bRePq",
        "outputId": "4d0b2679-8879-4a5d-cf61-81d3a3981b8d"
      },
      "execution_count": null,
      "outputs": [
        {
          "output_type": "stream",
          "name": "stdout",
          "text": [
            "Downloading data from https://storage.googleapis.com/tensorflow/tf-keras-datasets/mnist.npz\n",
            "\u001b[1m11490434/11490434\u001b[0m \u001b[32m━━━━━━━━━━━━━━━━━━━━\u001b[0m\u001b[37m\u001b[0m \u001b[1m0s\u001b[0m 0us/step\n"
          ]
        },
        {
          "output_type": "display_data",
          "data": {
            "text/plain": [
              "<Figure size 640x480 with 4 Axes>"
            ],
            "image/png": "[encoded data removed]"
          },
          "metadata": {}
        }
      ]
    },
    {
      "cell_type": "markdown",
      "source": [
        "MNIST dataset contains 70,000 images of handwritten digits. Shown above are examples of 5, 0 , 4, 1. Each image is of size 28x28 pixels. Therefore 784 input features and 10 classes with each class being a digit."
      ],
      "metadata": {
        "id": "gwD65coBjl0V"
      }
    },
    {
      "cell_type": "code",
      "source": [
        "\n",
        "# fix random seed for reproducibility\n",
        "seed = 7\n",
        "np.random.seed(seed)\n",
        "\n",
        "# load data\n",
        "(X_train, y_train), (X_test, y_test) = mnist.load_data()\n",
        "\n",
        "\n",
        "# flatten 28*28 images to a 784 vector for each image\n",
        "num_pixels = X_train.shape[1] * X_train.shape[2]\n",
        "X_train = X_train.reshape(X_train.shape[0], num_pixels).astype('float32')\n",
        "X_test = X_test.reshape(X_test.shape[0], num_pixels).astype('float32')\n",
        "\n",
        "# normalize inputs from 0-255 to 0-1\n",
        "X_train = X_train / 255\n",
        "X_test = X_test / 255\n",
        "\n",
        "# one hot encode outputs (0000000001, 0000000010, 0000000100 ...)\n",
        "y_train = to_categorical(y_train)\n",
        "y_test = to_categorical(y_test)"
      ],
      "metadata": {
        "id": "e1wBFuLMRh0d"
      },
      "execution_count": null,
      "outputs": []
    },
    {
      "cell_type": "code",
      "source": [
        "num_classes = y_test.shape[1]\n",
        "\n",
        "def baseline_model():\n",
        "# create model\n",
        " model = Sequential()\n",
        " model.add(Dense(num_pixels, input_dim=num_pixels, kernel_initializer='normal', activation='relu'))\n",
        " model.add(Dense(num_classes, kernel_initializer='normal', activation='softmax'))\n",
        "# Compile model\n",
        " model.compile(loss='categorical_crossentropy', optimizer='adam', metrics=['accuracy'])\n",
        " return model\n",
        "\n",
        "\n",
        "# build the model\n",
        "model = baseline_model()\n",
        "# Fit the model\n",
        "model.fit(X_train, y_train, validation_data=(X_test, y_test), epochs=10, batch_size=200, verbose=2)\n",
        "# Final evaluation of the model\n",
        "scores = model.evaluate(X_test, y_test, verbose=0)\n",
        "print(\"Baseline Error: %.2f%%\" % (100-scores[1]*100))"
      ],
      "metadata": {
        "colab": {
          "base_uri": "https://localhost:8080/"
        },
        "id": "N9mn_GQ1RlTn",
        "outputId": "624c1921-c2e3-44d1-c063-6ad40c893118"
      },
      "execution_count": null,
      "outputs": [
        {
          "output_type": "stream",
          "name": "stdout",
          "text": [
            "Epoch 1/10\n",
            "300/300 - 6s - 20ms/step - accuracy: 0.9198 - loss: 0.2839 - val_accuracy: 0.9608 - val_loss: 0.1384\n",
            "Epoch 2/10\n",
            "300/300 - 6s - 21ms/step - accuracy: 0.9683 - loss: 0.1117 - val_accuracy: 0.9719 - val_loss: 0.0993\n",
            "Epoch 3/10\n",
            "300/300 - 10s - 33ms/step - accuracy: 0.9801 - loss: 0.0721 - val_accuracy: 0.9764 - val_loss: 0.0793\n",
            "Epoch 4/10\n",
            "300/300 - 9s - 31ms/step - accuracy: 0.9858 - loss: 0.0498 - val_accuracy: 0.9789 - val_loss: 0.0701\n",
            "Epoch 5/10\n",
            "300/300 - 7s - 22ms/step - accuracy: 0.9904 - loss: 0.0365 - val_accuracy: 0.9798 - val_loss: 0.0636\n",
            "Epoch 6/10\n",
            "300/300 - 5s - 16ms/step - accuracy: 0.9931 - loss: 0.0262 - val_accuracy: 0.9812 - val_loss: 0.0636\n",
            "Epoch 7/10\n",
            "300/300 - 6s - 21ms/step - accuracy: 0.9946 - loss: 0.0203 - val_accuracy: 0.9825 - val_loss: 0.0593\n",
            "Epoch 8/10\n",
            "300/300 - 5s - 18ms/step - accuracy: 0.9965 - loss: 0.0154 - val_accuracy: 0.9822 - val_loss: 0.0579\n",
            "Epoch 9/10\n",
            "300/300 - 5s - 17ms/step - accuracy: 0.9979 - loss: 0.0103 - val_accuracy: 0.9816 - val_loss: 0.0628\n",
            "Epoch 10/10\n",
            "300/300 - 6s - 22ms/step - accuracy: 0.9987 - loss: 0.0076 - val_accuracy: 0.9818 - val_loss: 0.0632\n",
            "Baseline Error: 1.82%\n"
          ]
        }
      ]
    },
    {
      "cell_type": "markdown",
      "source": [
        "This is the result with the deafault parameters of the model"
      ],
      "metadata": {
        "id": "91vMlh-ilzj9"
      }
    },
    {
      "cell_type": "code",
      "source": [
        "# define baseline model\n",
        "def baseline_model():\n",
        "# create model\n",
        " model = Sequential()\n",
        " model.add(Dense(num_pixels, input_dim=num_pixels, kernel_initializer='normal', activation='leaky_relu'))\n",
        " model.add(Dense(num_classes, kernel_initializer='normal', activation='softmax'))\n",
        "# Compile model\n",
        " model.compile(loss='categorical_crossentropy', optimizer='adagrad', metrics=['accuracy'])\n",
        " return model\n",
        "\n",
        "\n",
        "# build the model\n",
        "model = baseline_model()\n",
        "# Fit the model\n",
        "model.fit(X_train, y_train, validation_data=(X_test, y_test), epochs=10, batch_size=200, verbose=2)\n",
        "# Final evaluation of the model\n",
        "scores = model.evaluate(X_test, y_test, verbose=0)\n",
        "print(\"Baseline Error: %.2f%%\" % (100-scores[1]*100))"
      ],
      "metadata": {
        "colab": {
          "base_uri": "https://localhost:8080/"
        },
        "id": "ZwBsIQjhIW2i",
        "outputId": "953d2182-89f0-48cc-cf6d-7fe4b64b9f7c"
      },
      "execution_count": null,
      "outputs": [
        {
          "output_type": "stream",
          "name": "stdout",
          "text": [
            "Epoch 1/10\n",
            "300/300 - 5s - 17ms/step - accuracy: 0.5372 - loss: 1.7507 - val_accuracy: 0.7495 - val_loss: 1.3124\n",
            "Epoch 2/10\n",
            "300/300 - 6s - 19ms/step - accuracy: 0.7840 - loss: 1.1216 - val_accuracy: 0.8252 - val_loss: 0.9331\n",
            "Epoch 3/10\n",
            "300/300 - 9s - 30ms/step - accuracy: 0.8277 - loss: 0.8616 - val_accuracy: 0.8477 - val_loss: 0.7536\n",
            "Epoch 4/10\n",
            "300/300 - 7s - 22ms/step - accuracy: 0.8458 - loss: 0.7260 - val_accuracy: 0.8633 - val_loss: 0.6511\n",
            "Epoch 5/10\n",
            "300/300 - 9s - 30ms/step - accuracy: 0.8566 - loss: 0.6432 - val_accuracy: 0.8709 - val_loss: 0.5850\n",
            "Epoch 6/10\n",
            "300/300 - 6s - 19ms/step - accuracy: 0.8634 - loss: 0.5872 - val_accuracy: 0.8773 - val_loss: 0.5387\n",
            "Epoch 7/10\n",
            "300/300 - 10s - 33ms/step - accuracy: 0.8690 - loss: 0.5466 - val_accuracy: 0.8815 - val_loss: 0.5042\n",
            "Epoch 8/10\n",
            "300/300 - 10s - 32ms/step - accuracy: 0.8736 - loss: 0.5157 - val_accuracy: 0.8859 - val_loss: 0.4776\n",
            "Epoch 9/10\n",
            "300/300 - 6s - 21ms/step - accuracy: 0.8778 - loss: 0.4913 - val_accuracy: 0.8887 - val_loss: 0.4564\n",
            "Epoch 10/10\n",
            "300/300 - 6s - 20ms/step - accuracy: 0.8805 - loss: 0.4714 - val_accuracy: 0.8911 - val_loss: 0.4387\n",
            "Baseline Error: 10.89%\n"
          ]
        }
      ]
    },
    {
      "cell_type": "markdown",
      "source": [
        "Change activation function to leaky relu and optimizer to adagrad.\n",
        "ReLU activation function maps the neuron value to 0 if it is negative and does not modify it if it is positive. Leaky ReLU on the other hand, maps negative values to (ax) where a is a very small constant. This means that negative neurons are not dead neurons and still can pass information to next layers.\n",
        "Adam optimizer combines momentum and Root Mean Squared algorithims to correct the weights and biases of the network parameters.\n",
        "Adagrad independetly adapts the learning rate while optimizing.\n",
        "The results of the chages show a much worse baseline error of 10.89% when compared to the previous 1.82%. This is likley due to Adam being a better optimizer than Adagrad so it would theoretically take adagrad more epochs to achive a similar result."
      ],
      "metadata": {
        "id": "UNkKZmlhwcGj"
      }
    },
    {
      "cell_type": "code",
      "source": [
        "def baseline_model():\n",
        "# create model\n",
        " model = Sequential()\n",
        " model.add(Dense(num_pixels, input_dim=num_pixels, kernel_initializer='normal', activation='relu'))\n",
        " model.add(Dense(num_classes, kernel_initializer='normal', activation='softmax'))\n",
        "# Compile model\n",
        " model.compile(loss='categorical_crossentropy', optimizer='adam', metrics=['accuracy'])\n",
        " return model\n",
        "\n",
        "\n",
        "# build the model\n",
        "model = baseline_model()\n",
        "# Fit the model\n",
        "model.fit(X_train, y_train, validation_data=(X_test, y_test), epochs=10, batch_size=32, verbose=2)\n",
        "# Final evaluation of the model\n",
        "scores = model.evaluate(X_test, y_test, verbose=0)\n",
        "print(\"Baseline Error: %.2f%%\" % (100-scores[1]*100))"
      ],
      "metadata": {
        "colab": {
          "base_uri": "https://localhost:8080/"
        },
        "id": "DITtHZc3IXN4",
        "outputId": "72aed008-9e29-457e-9df6-abd838212e44"
      },
      "execution_count": null,
      "outputs": [
        {
          "output_type": "stream",
          "name": "stdout",
          "text": [
            "Epoch 1/10\n",
            "1875/1875 - 30s - 16ms/step - accuracy: 0.9423 - loss: 0.1907 - val_accuracy: 0.9688 - val_loss: 0.1040\n",
            "Epoch 2/10\n",
            "1875/1875 - 17s - 9ms/step - accuracy: 0.9768 - loss: 0.0753 - val_accuracy: 0.9750 - val_loss: 0.0710\n",
            "Epoch 3/10\n",
            "1875/1875 - 21s - 11ms/step - accuracy: 0.9847 - loss: 0.0483 - val_accuracy: 0.9793 - val_loss: 0.0658\n",
            "Epoch 4/10\n",
            "1875/1875 - 17s - 9ms/step - accuracy: 0.9887 - loss: 0.0344 - val_accuracy: 0.9817 - val_loss: 0.0634\n",
            "Epoch 5/10\n",
            "1875/1875 - 17s - 9ms/step - accuracy: 0.9916 - loss: 0.0245 - val_accuracy: 0.9811 - val_loss: 0.0682\n",
            "Epoch 6/10\n",
            "1875/1875 - 19s - 10ms/step - accuracy: 0.9933 - loss: 0.0197 - val_accuracy: 0.9804 - val_loss: 0.0708\n",
            "Epoch 7/10\n",
            "1875/1875 - 19s - 10ms/step - accuracy: 0.9944 - loss: 0.0170 - val_accuracy: 0.9810 - val_loss: 0.0777\n",
            "Epoch 8/10\n",
            "1875/1875 - 19s - 10ms/step - accuracy: 0.9956 - loss: 0.0135 - val_accuracy: 0.9805 - val_loss: 0.0741\n",
            "Epoch 9/10\n",
            "1875/1875 - 23s - 12ms/step - accuracy: 0.9957 - loss: 0.0125 - val_accuracy: 0.9778 - val_loss: 0.0928\n",
            "Epoch 10/10\n",
            "1875/1875 - 18s - 9ms/step - accuracy: 0.9963 - loss: 0.0114 - val_accuracy: 0.9818 - val_loss: 0.0856\n",
            "Baseline Error: 1.82%\n"
          ]
        }
      ]
    },
    {
      "cell_type": "markdown",
      "source": [
        "Here the default parameters where reverted back and now the batch size was changed to 32 from 200. This results in much more computations as shown by the time to complete each epoch. Even though the time per step is lower overall time increases by factor of 2x-6x. This though does not result in a meaningful change as the error is the same. Therefore it is better to have higher batch size in this case."
      ],
      "metadata": {
        "id": "gLl80ByJ0wnf"
      }
    },
    {
      "cell_type": "code",
      "source": [
        "def baseline_model():\n",
        "# create model\n",
        " model = Sequential()\n",
        " model.add(Dense(num_pixels, input_dim=num_pixels, kernel_initializer='normal', activation='relu'))\n",
        " model.add(Dense(num_classes, kernel_initializer='normal', activation='softmax'))\n",
        "# Compile model\n",
        " model.compile(loss='categorical_crossentropy', optimizer='adam', metrics=['accuracy'])\n",
        " return model\n",
        "\n",
        "\n",
        "# build the model\n",
        "model = baseline_model()\n",
        "# Fit the model\n",
        "model.fit(X_train, y_train, validation_data=(X_test, y_test), epochs=20, batch_size=200, verbose=2)\n",
        "# Final evaluation of the model\n",
        "scores = model.evaluate(X_test, y_test, verbose=0)\n",
        "print(\"Baseline Error: %.2f%%\" % (100-scores[1]*100))"
      ],
      "metadata": {
        "colab": {
          "base_uri": "https://localhost:8080/"
        },
        "id": "n3bogEWCMwRl",
        "outputId": "bb7c9449-92da-4b73-bdda-d91ad306bb21"
      },
      "execution_count": null,
      "outputs": [
        {
          "output_type": "stream",
          "name": "stdout",
          "text": [
            "Epoch 1/20\n",
            "300/300 - 13s - 42ms/step - accuracy: 0.9206 - loss: 0.2785 - val_accuracy: 0.9581 - val_loss: 0.1482\n",
            "Epoch 2/20\n",
            "300/300 - 16s - 54ms/step - accuracy: 0.9681 - loss: 0.1107 - val_accuracy: 0.9734 - val_loss: 0.0923\n",
            "Epoch 3/20\n",
            "300/300 - 9s - 29ms/step - accuracy: 0.9796 - loss: 0.0708 - val_accuracy: 0.9781 - val_loss: 0.0722\n",
            "Epoch 4/20\n",
            "300/300 - 6s - 20ms/step - accuracy: 0.9857 - loss: 0.0511 - val_accuracy: 0.9780 - val_loss: 0.0677\n",
            "Epoch 5/20\n",
            "300/300 - 10s - 34ms/step - accuracy: 0.9892 - loss: 0.0372 - val_accuracy: 0.9798 - val_loss: 0.0615\n",
            "Epoch 6/20\n",
            "300/300 - 9s - 31ms/step - accuracy: 0.9928 - loss: 0.0269 - val_accuracy: 0.9801 - val_loss: 0.0616\n",
            "Epoch 7/20\n",
            "300/300 - 6s - 21ms/step - accuracy: 0.9953 - loss: 0.0194 - val_accuracy: 0.9813 - val_loss: 0.0567\n",
            "Epoch 8/20\n",
            "300/300 - 5s - 16ms/step - accuracy: 0.9964 - loss: 0.0153 - val_accuracy: 0.9812 - val_loss: 0.0591\n",
            "Epoch 9/20\n",
            "300/300 - 7s - 23ms/step - accuracy: 0.9977 - loss: 0.0110 - val_accuracy: 0.9823 - val_loss: 0.0562\n",
            "Epoch 10/20\n",
            "300/300 - 7s - 22ms/step - accuracy: 0.9989 - loss: 0.0074 - val_accuracy: 0.9820 - val_loss: 0.0583\n",
            "Epoch 11/20\n",
            "300/300 - 5s - 17ms/step - accuracy: 0.9994 - loss: 0.0053 - val_accuracy: 0.9819 - val_loss: 0.0593\n",
            "Epoch 12/20\n",
            "300/300 - 6s - 21ms/step - accuracy: 0.9995 - loss: 0.0040 - val_accuracy: 0.9828 - val_loss: 0.0602\n",
            "Epoch 13/20\n",
            "300/300 - 10s - 33ms/step - accuracy: 0.9998 - loss: 0.0028 - val_accuracy: 0.9830 - val_loss: 0.0591\n",
            "Epoch 14/20\n",
            "300/300 - 9s - 30ms/step - accuracy: 0.9996 - loss: 0.0033 - val_accuracy: 0.9810 - val_loss: 0.0681\n",
            "Epoch 15/20\n",
            "300/300 - 7s - 22ms/step - accuracy: 0.9972 - loss: 0.0094 - val_accuracy: 0.9802 - val_loss: 0.0759\n",
            "Epoch 16/20\n",
            "300/300 - 5s - 16ms/step - accuracy: 0.9957 - loss: 0.0128 - val_accuracy: 0.9802 - val_loss: 0.0696\n",
            "Epoch 17/20\n",
            "300/300 - 5s - 18ms/step - accuracy: 0.9991 - loss: 0.0043 - val_accuracy: 0.9816 - val_loss: 0.0719\n",
            "Epoch 18/20\n",
            "300/300 - 10s - 32ms/step - accuracy: 0.9997 - loss: 0.0021 - val_accuracy: 0.9852 - val_loss: 0.0593\n",
            "Epoch 19/20\n",
            "300/300 - 7s - 22ms/step - accuracy: 1.0000 - loss: 5.6795e-04 - val_accuracy: 0.9852 - val_loss: 0.0600\n",
            "Epoch 20/20\n",
            "300/300 - 5s - 16ms/step - accuracy: 1.0000 - loss: 4.0746e-04 - val_accuracy: 0.9844 - val_loss: 0.0612\n",
            "Baseline Error: 1.56%\n"
          ]
        }
      ]
    },
    {
      "cell_type": "markdown",
      "source": [
        "Here the deafault parameters are reverted but epochs are set to 20 from 10. As expected this decareases the baseline error. However we can see the loss becoming marginally small so if epochs were increased even more to 100 for example it would not be significantly better but would incure significant computational costs. This is why many models employ early stopping so when the loss becomes small enough the model stops running epochs as the amount is different for each model."
      ],
      "metadata": {
        "id": "DqpaOXem1yYF"
      }
    },
    {
      "cell_type": "code",
      "source": [
        "def baseline_model():\n",
        "# create model\n",
        " model = Sequential()\n",
        " model.add(Dense(num_pixels, input_dim=num_pixels, kernel_initializer='normal', activation='relu'))\n",
        " model.add(Dense(128, activation='relu'))\n",
        " model.add(Dense(num_classes, kernel_initializer='normal', activation='softmax'))\n",
        "# Compile model\n",
        " model.compile(loss='categorical_crossentropy', optimizer='adam', metrics=['accuracy'])\n",
        " return model\n",
        "\n",
        "\n",
        "# build the model\n",
        "model = baseline_model()\n",
        "# Fit the model\n",
        "model.fit(X_train, y_train, validation_data=(X_test, y_test), epochs=10, batch_size=200, verbose=2)\n",
        "# Final evaluation of the model\n",
        "scores = model.evaluate(X_test, y_test, verbose=0)\n",
        "print(\"Baseline Error: %.2f%%\" % (100-scores[1]*100))"
      ],
      "metadata": {
        "colab": {
          "base_uri": "https://localhost:8080/"
        },
        "id": "mi3oeJdcSUHW",
        "outputId": "0212ab67-a3aa-43c7-8ce6-8dc769b1ff85"
      },
      "execution_count": null,
      "outputs": [
        {
          "output_type": "stream",
          "name": "stdout",
          "text": [
            "Epoch 1/10\n",
            "300/300 - 9s - 29ms/step - accuracy: 0.9199 - loss: 0.2888 - val_accuracy: 0.9588 - val_loss: 0.1393\n",
            "Epoch 2/10\n",
            "300/300 - 7s - 23ms/step - accuracy: 0.9710 - loss: 0.0989 - val_accuracy: 0.9712 - val_loss: 0.0907\n",
            "Epoch 3/10\n",
            "300/300 - 12s - 40ms/step - accuracy: 0.9806 - loss: 0.0637 - val_accuracy: 0.9777 - val_loss: 0.0716\n",
            "Epoch 4/10\n",
            "300/300 - 7s - 23ms/step - accuracy: 0.9873 - loss: 0.0411 - val_accuracy: 0.9792 - val_loss: 0.0665\n",
            "Epoch 5/10\n",
            "300/300 - 10s - 34ms/step - accuracy: 0.9914 - loss: 0.0284 - val_accuracy: 0.9788 - val_loss: 0.0673\n",
            "Epoch 6/10\n",
            "300/300 - 11s - 36ms/step - accuracy: 0.9938 - loss: 0.0206 - val_accuracy: 0.9776 - val_loss: 0.0754\n",
            "Epoch 7/10\n",
            "300/300 - 11s - 37ms/step - accuracy: 0.9952 - loss: 0.0158 - val_accuracy: 0.9803 - val_loss: 0.0699\n",
            "Epoch 8/10\n",
            "300/300 - 5s - 18ms/step - accuracy: 0.9965 - loss: 0.0114 - val_accuracy: 0.9816 - val_loss: 0.0651\n",
            "Epoch 9/10\n",
            "300/300 - 8s - 25ms/step - accuracy: 0.9961 - loss: 0.0116 - val_accuracy: 0.9833 - val_loss: 0.0624\n",
            "Epoch 10/10\n",
            "300/300 - 8s - 28ms/step - accuracy: 0.9956 - loss: 0.0131 - val_accuracy: 0.9766 - val_loss: 0.0923\n",
            "Baseline Error: 2.34%\n"
          ]
        }
      ]
    },
    {
      "cell_type": "markdown",
      "source": [
        "Here the parameters are set back to default values and an extra dense layer is added to test the theory that deeper networks are always better. 128 is chosen as an arbirtary amount between num_pixels which is 784 and num classes which is 10. It keeps the same activation function as default. Here we can see that the error is more than the previous. This is likley due to overfitting the dataset since there are too many neurons and layers. This can be a very difficult value to test due to the amount of layers, types of layers and number of neurons per layer as well as other parameters."
      ],
      "metadata": {
        "id": "VJHs3a8R3Wq7"
      }
    },
    {
      "cell_type": "markdown",
      "source": [
        "Overall there are many different parameters to be tuned for models. Here parameters were tested manually and compared for better understanding. However there are functions such as GridSearchCV as well as others that are used to test various combinations of hyperparameters automatically and return the model with the best result."
      ],
      "metadata": {
        "id": "6MPLlkZf3XV6"
      }
    }
  ]
}